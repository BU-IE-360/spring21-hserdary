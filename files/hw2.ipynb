{
 "cells": [
  {
   "cell_type": "markdown",
   "id": "designed-addition",
   "metadata": {},
   "source": [
    "# Time Series Regression for Predicting Clothing and Footwear CPI"
   ]
  },
  {
   "cell_type": "markdown",
   "id": "surgical-egyptian",
   "metadata": {},
   "source": [
    "Consumer Price Index, CPI, is a measure of weighted average prices for a basket of consumer goods and services. Clothing and Footwear CPI indicates the average variation in the prices of clothing and footwear products and services that a typical consumer pays for. It is also used with other price indices for calculating the change in inflation value. \n",
    " \n",
    "In this assignment, time series analysis of monthly CPI value for clothing and footwear will be examined. After, the forecasting model will be built. Monthly unemployment rate, average buying USDTRY rate, and the results of a survey about expectation of monthly CPI value for the current month will be used as regressors. Survey results and unemployment rate are given as percentage values. \n",
    " \n",
    "   Data is accessed on 5th March 2021 and it is installed as an excel file from Electronic Data Delivery System of Republic of Turkey(EVDS). Date range used for this study is from January 2014 to March 2021 in monthly manner. The last observation of unemployment rate was missing on EVDS, therefore, it is accessed from TUIK* website and manually added to the excel file. \n",
    "   \n",
    "EVDS : https://evds2.tcmb.gov.tr/ \n",
    " \n",
    "TUIK* :https://data.tuik.gov.tr/Bulten/Index?p=Isgucu-Istatistikleri-Ocak-2021-37486#:~:text=Mevsim%20etkisinden%20ar%C4%B1nd%C4%B1r%C4%B1lmam%C4%B1%C5%9F%20i%C5%9Fsizlik%20oran%C4%B1%20bir%20%C3%B6nceki%20y%C4%B1l%C4%B1n%20ayn%C4%B1%20ay%C4%B1na,azalarak%20%13%2C4%20oldu\n"
   ]
  },
  {
   "cell_type": "markdown",
   "id": "missing-payment",
   "metadata": {},
   "source": [
    " "
   ]
  },
  {
   "cell_type": "markdown",
   "id": "lined-channel",
   "metadata": {},
   "source": [
    " "
   ]
  },
  {
   "cell_type": "markdown",
   "id": "surrounded-dynamics",
   "metadata": {},
   "source": [
    "## Required Packages & Data Preparation"
   ]
  },
  {
   "cell_type": "code",
   "execution_count": 1,
   "id": "extensive-synthetic",
   "metadata": {},
   "outputs": [
    {
     "name": "stderr",
     "output_type": "stream",
     "text": [
      "Registered S3 method overwritten by 'GGally':\n",
      "  method from   \n",
      "  +.gg   ggplot2\n",
      "\n",
      "Attaching package: 'zoo'\n",
      "\n",
      "The following objects are masked from 'package:base':\n",
      "\n",
      "    as.Date, as.Date.numeric\n",
      "\n",
      "\n",
      "Attaching package: 'lubridate'\n",
      "\n",
      "The following objects are masked from 'package:data.table':\n",
      "\n",
      "    hour, isoweek, mday, minute, month, quarter, second, wday, week,\n",
      "    yday, year\n",
      "\n",
      "The following objects are masked from 'package:base':\n",
      "\n",
      "    date, intersect, setdiff, union\n",
      "\n",
      "Registered S3 method overwritten by 'xts':\n",
      "  method     from\n",
      "  as.zoo.xts zoo \n",
      "Registered S3 method overwritten by 'quantmod':\n",
      "  method            from\n",
      "  as.zoo.data.frame zoo \n"
     ]
    }
   ],
   "source": [
    "options(warn=-1) #hiding the warning messages\n",
    "library(data.table)\n",
    "library(ggplot2)\n",
    "library(GGally)\n",
    "library(zoo)\n",
    "library(lubridate)\n",
    "library(forecast)\n",
    "library(readxl)"
   ]
  },
  {
   "cell_type": "code",
   "execution_count": 2,
   "id": "adolescent-helmet",
   "metadata": {},
   "outputs": [
    {
     "name": "stdout",
     "output_type": "stream",
     "text": [
      "Classes 'data.table' and 'data.frame':\t87 obs. of  5 variables:\n",
      " $ Date      : Date, format: \"2014-01-01\" \"2014-02-01\" ...\n",
      " $ UnempRate : num  10.5 10.5 9.4 8.8 8.4 9 9.7 10.1 10.1 10.9 ...\n",
      " $ USDTRY    : num  2.22 2.21 2.22 2.13 2.09 ...\n",
      " $ CPI       : num  149 142 145 164 179 ...\n",
      " $ ExpectRate: num  1.06 0.69 0.66 0.76 0.64 0.22 0.06 0.15 0.53 1.38 ...\n",
      " - attr(*, \".internal.selfref\")=<externalptr> \n"
     ]
    },
    {
     "data": {
      "text/html": [
       "<table>\n",
       "<thead><tr><th scope=col>Date</th><th scope=col>UnempRate</th><th scope=col>USDTRY</th><th scope=col>CPI</th><th scope=col>ExpectRate</th></tr></thead>\n",
       "<tbody>\n",
       "\t<tr><td>2014-01-01</td><td>10.5      </td><td>2.216836  </td><td>149.16    </td><td>1.06      </td></tr>\n",
       "\t<tr><td>2014-02-01</td><td>10.5      </td><td>2.212760  </td><td>141.61    </td><td>0.69      </td></tr>\n",
       "\t<tr><td>2014-03-01</td><td> 9.4      </td><td>2.217795  </td><td>145.13    </td><td>0.66      </td></tr>\n",
       "\t<tr><td>2014-04-01</td><td> 8.8      </td><td>2.127471  </td><td>164.14    </td><td>0.76      </td></tr>\n",
       "\t<tr><td>2014-05-01</td><td> 8.4      </td><td>2.090805  </td><td>179.22    </td><td>0.64      </td></tr>\n",
       "\t<tr><td>2014-06-01</td><td> 9.0      </td><td>2.115724  </td><td>176.98    </td><td>0.22      </td></tr>\n",
       "</tbody>\n",
       "</table>\n"
      ],
      "text/latex": [
       "\\begin{tabular}{r|lllll}\n",
       " Date & UnempRate & USDTRY & CPI & ExpectRate\\\\\n",
       "\\hline\n",
       "\t 2014-01-01 & 10.5       & 2.216836   & 149.16     & 1.06      \\\\\n",
       "\t 2014-02-01 & 10.5       & 2.212760   & 141.61     & 0.69      \\\\\n",
       "\t 2014-03-01 &  9.4       & 2.217795   & 145.13     & 0.66      \\\\\n",
       "\t 2014-04-01 &  8.8       & 2.127471   & 164.14     & 0.76      \\\\\n",
       "\t 2014-05-01 &  8.4       & 2.090805   & 179.22     & 0.64      \\\\\n",
       "\t 2014-06-01 &  9.0       & 2.115724   & 176.98     & 0.22      \\\\\n",
       "\\end{tabular}\n"
      ],
      "text/markdown": [
       "\n",
       "| Date | UnempRate | USDTRY | CPI | ExpectRate |\n",
       "|---|---|---|---|---|\n",
       "| 2014-01-01 | 10.5       | 2.216836   | 149.16     | 1.06       |\n",
       "| 2014-02-01 | 10.5       | 2.212760   | 141.61     | 0.69       |\n",
       "| 2014-03-01 |  9.4       | 2.217795   | 145.13     | 0.66       |\n",
       "| 2014-04-01 |  8.8       | 2.127471   | 164.14     | 0.76       |\n",
       "| 2014-05-01 |  8.4       | 2.090805   | 179.22     | 0.64       |\n",
       "| 2014-06-01 |  9.0       | 2.115724   | 176.98     | 0.22       |\n",
       "\n"
      ],
      "text/plain": [
       "  Date       UnempRate USDTRY   CPI    ExpectRate\n",
       "1 2014-01-01 10.5      2.216836 149.16 1.06      \n",
       "2 2014-02-01 10.5      2.212760 141.61 0.69      \n",
       "3 2014-03-01  9.4      2.217795 145.13 0.66      \n",
       "4 2014-04-01  8.8      2.127471 164.14 0.76      \n",
       "5 2014-05-01  8.4      2.090805 179.22 0.64      \n",
       "6 2014-06-01  9.0      2.115724 176.98 0.22      "
      ]
     },
     "metadata": {},
     "output_type": "display_data"
    }
   ],
   "source": [
    "dt <- readxl::read_excel(\"HW2_dataEVDS.xlsx\")\n",
    "colnames(dt) <- c(\"Date\", \"UnempRate\", \"USDTRY\", \"CPI\", \"ExpectRate\")\n",
    "dt <- data.table(dt)\n",
    "dt <- dt[, Date:=as.Date(as.yearmon(dt$Date))]\n",
    "\n",
    "str(dt)\n",
    "head(dt)"
   ]
  },
  {
   "cell_type": "markdown",
   "id": "developing-botswana",
   "metadata": {},
   "source": [
    "* Unemployment rate is related to the income per household. When it increases, income per household will decrease, which makes people tend to spend less money. Because clothing and footwear are not essential to survive, CPI is affected by this change. \n",
    " \n",
    "* USDTRY rate affects every production sectors that use imported products. Therefore, any change in the price of raw materials due to the currency leads to the prices of clothing and footwear goods. \n",
    " \n",
    "* ExpectRate is the result of a survey about people's expectation on CPI for the next month. People are asked for their expectation on CPI, and the expected change rate is reported as ExpectRate. It can be helpful for forecasting the real CPI for clothing and footwear. "
   ]
  },
  {
   "cell_type": "code",
   "execution_count": 3,
   "id": "sharing-haven",
   "metadata": {},
   "outputs": [
    {
     "data": {
      "text/plain": [
       "   UnempRate         USDTRY           CPI          ExpectRate    \n",
       " Min.   : 8.40   Min.   :2.091   Min.   :141.6   Min.   :0.0600  \n",
       " 1st Qu.:10.20   1st Qu.:2.882   1st Qu.:178.8   1st Qu.:0.5700  \n",
       " Median :11.00   Median :3.666   Median :203.5   Median :0.7600  \n",
       " Mean   :11.48   Mean   :4.264   Mean   :209.6   Mean   :0.8163  \n",
       " 3rd Qu.:12.90   3rd Qu.:5.734   3rd Qu.:236.6   3rd Qu.:1.0800  \n",
       " Max.   :15.10   Max.   :8.003   Max.   :273.2   Max.   :2.1300  "
      ]
     },
     "metadata": {},
     "output_type": "display_data"
    }
   ],
   "source": [
    "summary(dt[, 2:5])"
   ]
  },
  {
   "cell_type": "code",
   "execution_count": 4,
   "id": "interesting-education",
   "metadata": {},
   "outputs": [
    {
     "name": "stderr",
     "output_type": "stream",
     "text": [
      "`geom_smooth()` using method = 'loess' and formula 'y ~ x'\n"
     ]
    },
    {
     "data": {
      "image/png": "[encoded data removed]",
      "text/plain": [
       "plot without title"
      ]
     },
     "metadata": {},
     "output_type": "display_data"
    }
   ],
   "source": [
    "options(repr.plot.width = 8, repr.plot.height = 4) #for scaling the graph\n",
    "ggplot(dt, aes(x=Date, y=CPI)) + geom_line() + geom_smooth(se=FALSE)"
   ]
  },
  {
   "cell_type": "markdown",
   "id": "considered-description",
   "metadata": {},
   "source": [
    "By looking at the smoothed curve (blue one), it can be said that there is an increasing trend. Also, quarterly seasonality could be observed. It seems that the data does not have much noise. Outliers data points does not exist. At the end of 2018 and 2019, there are jumping points. "
   ]
  },
  {
   "cell_type": "markdown",
   "id": "graphic-ontario",
   "metadata": {},
   "source": [
    " "
   ]
  },
  {
   "cell_type": "markdown",
   "id": "remarkable-stream",
   "metadata": {},
   "source": [
    " "
   ]
  },
  {
   "cell_type": "markdown",
   "id": "faced-creator",
   "metadata": {},
   "source": [
    "## Adding Linear Trend Component"
   ]
  },
  {
   "cell_type": "code",
   "execution_count": 5,
   "id": "square-intelligence",
   "metadata": {},
   "outputs": [
    {
     "data": {
      "image/png": "[encoded data removed]",
      "text/plain": [
       "plot without title"
      ]
     },
     "metadata": {},
     "output_type": "display_data"
    }
   ],
   "source": [
    "dt <- dt[, trend:=1:.N]\n",
    "ts_reg <- lm(CPI~trend, data=dt)\n",
    "\n",
    "dt <- dt[, predictions:=predict(ts_reg, dt)]\n",
    "ggplot(dt, aes(x=Date)) + geom_line(aes(y=CPI, color=\"real\")) + geom_line(aes(y=predictions, color=\"predict\"))"
   ]
  },
  {
   "cell_type": "markdown",
   "id": "noted-stylus",
   "metadata": {},
   "source": [
    " "
   ]
  },
  {
   "cell_type": "markdown",
   "id": "exposed-score",
   "metadata": {},
   "source": [
    " "
   ]
  },
  {
   "cell_type": "markdown",
   "id": "sunset-simple",
   "metadata": {},
   "source": [
    "## Adding Monthly Seasonality Component"
   ]
  },
  {
   "cell_type": "code",
   "execution_count": 6,
   "id": "miniature-pacific",
   "metadata": {},
   "outputs": [
    {
     "data": {
      "text/plain": [
       "\n",
       "Call:\n",
       "lm(formula = CPI ~ trend + months, data = dt)\n",
       "\n",
       "Residuals:\n",
       "     Min       1Q   Median       3Q      Max \n",
       "-11.7255  -4.6814  -0.2344   3.1421  19.0970 \n",
       "\n",
       "Coefficients:\n",
       "             Estimate Std. Error t value Pr(>|t|)    \n",
       "(Intercept) 151.65563    1.45659 104.117  < 2e-16 ***\n",
       "trend         1.32656    0.02877  46.114  < 2e-16 ***\n",
       "months.L     22.74570    2.47070   9.206 6.79e-14 ***\n",
       "months.Q     -1.14016    2.49136  -0.458  0.64855    \n",
       "months.C      7.08215    2.48899   2.845  0.00573 ** \n",
       "months^4      7.13904    2.47907   2.880  0.00520 ** \n",
       "months^5    -25.79873    2.48943 -10.363 4.66e-16 ***\n",
       "months^6     -6.36121    2.49399  -2.551  0.01282 *  \n",
       "months^7      7.63400    2.48630   3.070  0.00299 ** \n",
       "months^8      1.42274    2.49302   0.571  0.56994    \n",
       "months^9      3.45992    2.51454   1.376  0.17298    \n",
       "months^10     3.22336    2.53070   1.274  0.20675    \n",
       "months^11     0.23169    2.53605   0.091  0.92745    \n",
       "---\n",
       "Signif. codes:  0 '***' 0.001 '**' 0.01 '*' 0.05 '.' 0.1 ' ' 1\n",
       "\n",
       "Residual standard error: 6.712 on 74 degrees of freedom\n",
       "Multiple R-squared:   0.97,\tAdjusted R-squared:  0.9651 \n",
       "F-statistic: 199.2 on 12 and 74 DF,  p-value: < 2.2e-16\n"
      ]
     },
     "metadata": {},
     "output_type": "display_data"
    },
    {
     "data": {
      "image/png": "[encoded data removed]",
      "text/plain": [
       "plot without title"
      ]
     },
     "metadata": {},
     "output_type": "display_data"
    }
   ],
   "source": [
    "dt <- dt[, months:=lubridate::month(Date, label=TRUE)]\n",
    "ts_reg <- lm(CPI~trend+months, data=dt)\n",
    "summary(ts_reg)\n",
    "\n",
    "dt[, predictions:=predict(ts_reg, dt)]\n",
    "ggplot(dt, aes(x=Date)) + geom_line(aes(y=CPI, color=\"real\")) + geom_line(aes(y=predictions, color=\"predict\"))"
   ]
  },
  {
   "cell_type": "markdown",
   "id": "monetary-disposition",
   "metadata": {},
   "source": [
    "By adding trend and seasonality components, the Adjusted R-Squared value is gotten as 0.9651. The model's p value is very small, which makes the model meaningful. By looking at the graph, it is clear that the model has already predicted well. Now, let's check the residuals and then the regressors will be added to the model. "
   ]
  },
  {
   "cell_type": "code",
   "execution_count": 7,
   "id": "antique-graduation",
   "metadata": {
    "scrolled": false
   },
   "outputs": [
    {
     "data": {
      "image/png": "[encoded data removed]",
      "text/plain": [
       "plot without title"
      ]
     },
     "metadata": {},
     "output_type": "display_data"
    }
   ],
   "source": [
    "checkresiduals(ts_reg$residuals)"
   ]
  },
  {
   "cell_type": "markdown",
   "id": "eligible-omaha",
   "metadata": {},
   "source": [
    " "
   ]
  },
  {
   "cell_type": "markdown",
   "id": "known-finding",
   "metadata": {},
   "source": [
    "The residuals have zero mean and they are like normally distributed. On the first graph, there are unexplained residuals that can be exploit. Also, there is high correlation at the level of lag=1, which can lead to increase in errors in the future data. "
   ]
  },
  {
   "cell_type": "markdown",
   "id": "velvet-heath",
   "metadata": {},
   "source": [
    " "
   ]
  },
  {
   "cell_type": "markdown",
   "id": "fifth-hello",
   "metadata": {},
   "source": [
    " "
   ]
  },
  {
   "cell_type": "markdown",
   "id": "baking-separation",
   "metadata": {},
   "source": [
    "## Adding Other Regressors to the Model"
   ]
  },
  {
   "cell_type": "code",
   "execution_count": 8,
   "id": "minor-grace",
   "metadata": {},
   "outputs": [
    {
     "data": {
      "image/png": "[encoded data removed]",
      "text/plain": [
       "plot without title"
      ]
     },
     "metadata": {},
     "output_type": "display_data"
    }
   ],
   "source": [
    "GGally::ggpairs(dt[,2:5])"
   ]
  },
  {
   "cell_type": "markdown",
   "id": "combined-lewis",
   "metadata": {},
   "source": [
    "CPI is significantly correlated with other regressors. There is a linear relationship between CPI and USDTRY. Plus, CPI has a positive relationship with UnempRate. It seems that there is also a weak positive relationship between CPI and ExpectRate. \n",
    " \n",
    "In order to forecast future, we need lagged observations of regressors. Therefore, cross-corelation between regressors and CPI will be examined below."
   ]
  },
  {
   "cell_type": "code",
   "execution_count": 9,
   "id": "matched-arkansas",
   "metadata": {},
   "outputs": [
    {
     "data": {
      "image/png": "[encoded data removed]",
      "text/plain": [
       "Plot with title \"dt$USDTRY & dt$CPI\""
      ]
     },
     "metadata": {},
     "output_type": "display_data"
    },
    {
     "data": {
      "image/png": "[encoded data removed]",
      "text/plain": [
       "Plot with title \"dt$ExpectRate & dt$CPI\""
      ]
     },
     "metadata": {},
     "output_type": "display_data"
    },
    {
     "data": {
      "image/png": "[encoded data removed]",
      "text/plain": [
       "Plot with title \"dt$UnempRate & dt$CPI\""
      ]
     },
     "metadata": {},
     "output_type": "display_data"
    }
   ],
   "source": [
    "options(repr.plot.width = 5, repr.plot.height = 3) #for scaling the graphs\n",
    "\n",
    "ccf(dt$USDTRY, dt$CPI)\n",
    "ccf(dt$ExpectRate, dt$CPI)\n",
    "ccf(dt$UnempRate, dt$CPI)"
   ]
  },
  {
   "cell_type": "markdown",
   "id": "eleven-copyright",
   "metadata": {},
   "source": [
    "We look for negative lag values because of catching the correlations with lagged observations. The highest correlation occurs lag=1 for USDTRY, lag=-1 for ExpectRate, and lag=3 for UnempRate."
   ]
  },
  {
   "cell_type": "markdown",
   "id": "immune-slide",
   "metadata": {},
   "source": [
    " "
   ]
  },
  {
   "cell_type": "markdown",
   "id": "mediterranean-fireplace",
   "metadata": {},
   "source": [
    "### Adding Lagged USDTRY"
   ]
  },
  {
   "cell_type": "code",
   "execution_count": 10,
   "id": "shaped-casino",
   "metadata": {},
   "outputs": [
    {
     "data": {
      "text/plain": [
       "\n",
       "Call:\n",
       "lm(formula = CPI ~ trend + months + shift(USDTRY, 1), data = dt)\n",
       "\n",
       "Residuals:\n",
       "    Min      1Q  Median      3Q     Max \n",
       "-13.397  -4.573  -0.025   3.197  15.050 \n",
       "\n",
       "Coefficients:\n",
       "                  Estimate Std. Error t value Pr(>|t|)    \n",
       "(Intercept)      144.84686    2.26822  63.859  < 2e-16 ***\n",
       "trend              0.98005    0.09801  10.000 2.96e-15 ***\n",
       "months.L          22.26599    2.32736   9.567 1.85e-14 ***\n",
       "months.Q          -1.69407    2.35609  -0.719 0.474456    \n",
       "months.C           7.49932    2.34316   3.201 0.002042 ** \n",
       "months^4           7.42256    2.32264   3.196 0.002072 ** \n",
       "months^5         -25.30017    2.32146 -10.898  < 2e-16 ***\n",
       "months^6          -6.09657    2.31931  -2.629 0.010473 *  \n",
       "months^7           6.97365    2.31565   3.012 0.003584 ** \n",
       "months^8           1.23501    2.31363   0.534 0.595127    \n",
       "months^9           3.61518    2.33315   1.549 0.125650    \n",
       "months^10          3.40622    2.34827   1.451 0.151256    \n",
       "months^11          0.22295    2.35268   0.095 0.924765    \n",
       "shift(USDTRY, 1)   5.25324    1.41698   3.707 0.000408 ***\n",
       "---\n",
       "Signif. codes:  0 '***' 0.001 '**' 0.01 '*' 0.05 '.' 0.1 ' ' 1\n",
       "\n",
       "Residual standard error: 6.226 on 72 degrees of freedom\n",
       "  (1 observation deleted due to missingness)\n",
       "Multiple R-squared:  0.974,\tAdjusted R-squared:  0.9693 \n",
       "F-statistic: 207.4 on 13 and 72 DF,  p-value: < 2.2e-16\n"
      ]
     },
     "metadata": {},
     "output_type": "display_data"
    },
    {
     "data": {
      "image/png": "[encoded data removed]",
      "text/plain": [
       "plot without title"
      ]
     },
     "metadata": {},
     "output_type": "display_data"
    }
   ],
   "source": [
    "options(repr.plot.width = 8, repr.plot.height = 4) #for scaling the graph\n",
    "\n",
    "ts_reg <- lm(CPI~trend+months+shift(USDTRY, 1), data=dt)\n",
    "summary(ts_reg)\n",
    "\n",
    "dt[, predictions:=predict(ts_reg, dt)]\n",
    "ggplot(dt, aes(x=Date)) + geom_line(aes(y=CPI, color=\"real\")) + geom_line(aes(y=predictions, color=\"predict\"))"
   ]
  },
  {
   "cell_type": "markdown",
   "id": "valid-animation",
   "metadata": {},
   "source": [
    "Adjusted R-squared is increased from 0.9651 to 0.9693. Yet, the jumping points in 2019 and 2020 are still not explained."
   ]
  },
  {
   "cell_type": "markdown",
   "id": "nearby-royalty",
   "metadata": {},
   "source": [
    " "
   ]
  },
  {
   "cell_type": "markdown",
   "id": "experienced-cooper",
   "metadata": {},
   "source": [
    "### Adding Lagged ExpectRate"
   ]
  },
  {
   "cell_type": "code",
   "execution_count": 11,
   "id": "committed-protein",
   "metadata": {},
   "outputs": [
    {
     "data": {
      "text/plain": [
       "\n",
       "Call:\n",
       "lm(formula = CPI ~ trend + months + shift(USDTRY, 1) + shift(ExpectRate, \n",
       "    3), data = dt)\n",
       "\n",
       "Residuals:\n",
       "     Min       1Q   Median       3Q      Max \n",
       "-12.2873  -3.3508   0.7205   3.0362   9.9970 \n",
       "\n",
       "Coefficients:\n",
       "                      Estimate Std. Error t value Pr(>|t|)    \n",
       "(Intercept)          139.96943    2.09826  66.708  < 2e-16 ***\n",
       "trend                  0.93509    0.08865  10.548 4.94e-16 ***\n",
       "months.L              28.04670    2.24165  12.512  < 2e-16 ***\n",
       "months.Q              -5.72242    2.11796  -2.702 0.008671 ** \n",
       "months.C               7.56802    1.98723   3.808 0.000300 ***\n",
       "months^4              -2.11872    2.60752  -0.813 0.419276    \n",
       "months^5             -23.44693    2.02338 -11.588  < 2e-16 ***\n",
       "months^6              -7.65526    2.00320  -3.822 0.000287 ***\n",
       "months^7               9.89783    2.05510   4.816 8.35e-06 ***\n",
       "months^8               2.35558    1.99690   1.180 0.242204    \n",
       "months^9              -2.65459    2.27672  -1.166 0.247640    \n",
       "months^10              6.02064    2.03994   2.951 0.004319 ** \n",
       "months^11             -0.57357    1.98951  -0.288 0.773985    \n",
       "shift(USDTRY, 1)       4.40073    1.25610   3.503 0.000811 ***\n",
       "shift(ExpectRate, 3)  13.05190    2.29922   5.677 2.99e-07 ***\n",
       "---\n",
       "Signif. codes:  0 '***' 0.001 '**' 0.01 '*' 0.05 '.' 0.1 ' ' 1\n",
       "\n",
       "Residual standard error: 5.25 on 69 degrees of freedom\n",
       "  (3 observations deleted due to missingness)\n",
       "Multiple R-squared:  0.9806,\tAdjusted R-squared:  0.9767 \n",
       "F-statistic: 249.3 on 14 and 69 DF,  p-value: < 2.2e-16\n"
      ]
     },
     "metadata": {},
     "output_type": "display_data"
    },
    {
     "data": {
      "image/png": "[encoded data removed]",
      "text/plain": [
       "plot without title"
      ]
     },
     "metadata": {},
     "output_type": "display_data"
    }
   ],
   "source": [
    "ts_reg <- lm(CPI~trend+months+shift(USDTRY,1)+shift(ExpectRate,3), data=dt)\n",
    "summary(ts_reg)\n",
    "\n",
    "dt[, predictions:=predict(ts_reg, dt)]\n",
    "ggplot(dt, aes(x=Date)) + geom_line(aes(y=CPI, color=\"real\")) + geom_line(aes(y=predictions, color=\"predict\"))"
   ]
  },
  {
   "cell_type": "markdown",
   "id": "inappropriate-warren",
   "metadata": {},
   "source": [
    "Adjusted R-squared is increased from 0.9693 to 0.9767. Both lagged USDTRY and ExpectRate are significant according to the t test. Jumping points are predicted closely. "
   ]
  },
  {
   "cell_type": "markdown",
   "id": "owned-wagner",
   "metadata": {},
   "source": [
    " "
   ]
  },
  {
   "cell_type": "markdown",
   "id": "wooden-anger",
   "metadata": {},
   "source": [
    "### Adding Lagged UnempRate"
   ]
  },
  {
   "cell_type": "code",
   "execution_count": 12,
   "id": "animal-clause",
   "metadata": {},
   "outputs": [
    {
     "data": {
      "text/plain": [
       "\n",
       "Call:\n",
       "lm(formula = CPI ~ trend + months + shift(USDTRY, 1) + shift(ExpectRate, \n",
       "    1) + shift(UnempRate, 3), data = dt)\n",
       "\n",
       "Residuals:\n",
       "     Min       1Q   Median       3Q      Max \n",
       "-14.4748  -3.6305  -0.4399   2.9583  13.9061 \n",
       "\n",
       "Coefficients:\n",
       "                     Estimate Std. Error t value Pr(>|t|)    \n",
       "(Intercept)          157.4098     7.0090  22.458  < 2e-16 ***\n",
       "trend                  1.0244     0.1037   9.881 8.89e-15 ***\n",
       "months.L              19.9025     2.4691   8.061 1.70e-11 ***\n",
       "months.Q              -2.4235     2.3741  -1.021  0.31097    \n",
       "months.C               8.4055     2.6296   3.196  0.00211 ** \n",
       "months^4               9.4291     2.7751   3.398  0.00114 ** \n",
       "months^5             -25.0959     2.8294  -8.870 5.80e-13 ***\n",
       "months^6              -2.1590     2.7898  -0.774  0.44168    \n",
       "months^7               6.2623     2.4553   2.551  0.01301 *  \n",
       "months^8               2.4750     2.4215   1.022  0.31036    \n",
       "months^9               4.0383     2.2988   1.757  0.08347 .  \n",
       "months^10              2.6692     2.3142   1.153  0.25277    \n",
       "months^11             -0.2327     2.3008  -0.101  0.91973    \n",
       "shift(USDTRY, 1)       5.1709     1.5036   3.439  0.00100 ** \n",
       "shift(ExpectRate, 1)   5.1066     2.7423   1.862  0.06691 .  \n",
       "shift(UnempRate, 3)   -1.6129     0.7582  -2.127  0.03703 *  \n",
       "---\n",
       "Signif. codes:  0 '***' 0.001 '**' 0.01 '*' 0.05 '.' 0.1 ' ' 1\n",
       "\n",
       "Residual standard error: 6.067 on 68 degrees of freedom\n",
       "  (3 observations deleted due to missingness)\n",
       "Multiple R-squared:  0.9745,\tAdjusted R-squared:  0.9689 \n",
       "F-statistic: 173.2 on 15 and 68 DF,  p-value: < 2.2e-16\n"
      ]
     },
     "metadata": {},
     "output_type": "display_data"
    },
    {
     "data": {
      "image/png": "[encoded data removed]",
      "text/plain": [
       "plot without title"
      ]
     },
     "metadata": {},
     "output_type": "display_data"
    }
   ],
   "source": [
    "ts_reg <- lm(CPI~trend+months+shift(USDTRY,1)+shift(ExpectRate,1)+shift(UnempRate,3), data=dt)\n",
    "summary(ts_reg)\n",
    "\n",
    "dt[, predictions:=predict(ts_reg, dt)]\n",
    "ggplot(dt, aes(x=Date)) + geom_line(aes(y=CPI, color=\"real\")) + geom_line(aes(y=predictions, color=\"predict\"))"
   ]
  },
  {
   "cell_type": "markdown",
   "id": "legendary-grill",
   "metadata": {},
   "source": [
    "Adjusted R-squared is decreased from 0.9767 to 0.9689. After the year 2019, the predictions become worse. Also, the significance of ExpectRate is decreased and UnempRate does not have a high significance level. Therefore, UnempRate will not be used while building the model. Let's check the residuals again."
   ]
  },
  {
   "cell_type": "code",
   "execution_count": 13,
   "id": "available-workshop",
   "metadata": {},
   "outputs": [
    {
     "data": {
      "image/png": "[encoded data removed]",
      "text/plain": [
       "plot without title"
      ]
     },
     "metadata": {},
     "output_type": "display_data"
    }
   ],
   "source": [
    "checkresiduals(ts_reg$residuals)"
   ]
  },
  {
   "cell_type": "markdown",
   "id": "combined-message",
   "metadata": {},
   "source": [
    "The residuals have a mean value close to zero and they are like normally distributed. On the first graph, it can be seen that errors are increasing with time. The reason may be the correlation of residuals with their 1 lagged values. Therefore, I will use one lagged CPI observations as regressors and check the result."
   ]
  },
  {
   "cell_type": "markdown",
   "id": "numerous-shuttle",
   "metadata": {},
   "source": [
    " "
   ]
  },
  {
   "cell_type": "markdown",
   "id": "virtual-scott",
   "metadata": {},
   "source": [
    "## Adding Lagged CPI Values to the Model"
   ]
  },
  {
   "cell_type": "code",
   "execution_count": 14,
   "id": "documentary-spring",
   "metadata": {},
   "outputs": [
    {
     "data": {
      "text/plain": [
       "\n",
       "Call:\n",
       "lm(formula = CPI ~ trend + months + shift(USDTRY, 1) + shift(ExpectRate, \n",
       "    1) + shift(CPI, 1), data = dt)\n",
       "\n",
       "Residuals:\n",
       "    Min      1Q  Median      3Q     Max \n",
       "-6.5206 -1.6478 -0.0461  1.8207  5.9082 \n",
       "\n",
       "Coefficients:\n",
       "                      Estimate Std. Error t value Pr(>|t|)    \n",
       "(Intercept)           21.13262    7.94364   2.660 0.009672 ** \n",
       "trend                  0.13236    0.07179   1.844 0.069475 .  \n",
       "months.L              10.06522    1.33436   7.543 1.27e-10 ***\n",
       "months.Q             -11.72954    1.27904  -9.171 1.29e-13 ***\n",
       "months.C               7.60059    1.16232   6.539 8.55e-09 ***\n",
       "months^4             -13.35507    2.01283  -6.635 5.74e-09 ***\n",
       "months^5             -18.57926    1.27886 -14.528  < 2e-16 ***\n",
       "months^6              10.88220    1.59045   6.842 2.42e-09 ***\n",
       "months^7               6.87201    1.15100   5.970 8.83e-08 ***\n",
       "months^8               2.54535    1.14320   2.227 0.029200 *  \n",
       "months^9               7.36841    1.12154   6.570 7.53e-09 ***\n",
       "months^10              3.07423    1.11312   2.762 0.007336 ** \n",
       "months^11             -0.48936    1.10888  -0.441 0.660347    \n",
       "shift(USDTRY, 1)       0.59260    0.73634   0.805 0.423660    \n",
       "shift(ExpectRate, 1)   4.93861    1.31189   3.764 0.000344 ***\n",
       "shift(CPI, 1)          0.84615    0.05442  15.549  < 2e-16 ***\n",
       "---\n",
       "Signif. codes:  0 '***' 0.001 '**' 0.01 '*' 0.05 '.' 0.1 ' ' 1\n",
       "\n",
       "Residual standard error: 2.927 on 70 degrees of freedom\n",
       "  (1 observation deleted due to missingness)\n",
       "Multiple R-squared:  0.9944,\tAdjusted R-squared:  0.9932 \n",
       "F-statistic: 830.5 on 15 and 70 DF,  p-value: < 2.2e-16\n"
      ]
     },
     "metadata": {},
     "output_type": "display_data"
    },
    {
     "data": {
      "image/png": "[encoded data removed]",
      "text/plain": [
       "plot without title"
      ]
     },
     "metadata": {},
     "output_type": "display_data"
    }
   ],
   "source": [
    "ts_reg <- lm(CPI~trend+months+shift(USDTRY,1)+shift(ExpectRate,1)+shift(CPI,1), data=dt)\n",
    "summary(ts_reg)\n",
    "\n",
    "dt[, predictions:=predict(ts_reg, dt)]\n",
    "ggplot(dt, aes(x=Date)) + geom_line(aes(y=CPI, color=\"real\")) + geom_line(aes(y=predictions, color=\"predict\"))"
   ]
  },
  {
   "cell_type": "markdown",
   "id": "alleged-leonard",
   "metadata": {},
   "source": [
    "Now, the end of year 2018 and 2019 are forecasted more accurately. Adjusted R-Squared value is rised to 0.9932. Lagged ExpectRate and lagged CPI are very significant for the model but the significance of USDTRY is lost. The p value of f-statistics is very low, whick makes the model meaningful. Before forecasting the april value of CPI with the model, let's check the predictions versus real CPI graph in order to see if the x=y line occurs."
   ]
  },
  {
   "cell_type": "code",
   "execution_count": 15,
   "id": "hollow-evanescence",
   "metadata": {},
   "outputs": [
    {
     "data": {
      "image/png": "[encoded data removed]",
      "text/plain": [
       "plot without title"
      ]
     },
     "metadata": {},
     "output_type": "display_data"
    }
   ],
   "source": [
    "ggplot(dt, aes(x=CPI, y=predictions)) + geom_point() + geom_abline(intercept=0, slope=1)"
   ]
  },
  {
   "cell_type": "markdown",
   "id": "broadband-buffer",
   "metadata": {},
   "source": [
    "It is very close to x=y line. Then, let's predict the next month value!"
   ]
  },
  {
   "cell_type": "markdown",
   "id": "north-polls",
   "metadata": {},
   "source": [
    " "
   ]
  },
  {
   "cell_type": "markdown",
   "id": "functioning-driving",
   "metadata": {},
   "source": [
    " "
   ]
  },
  {
   "cell_type": "markdown",
   "id": "valid-command",
   "metadata": {},
   "source": [
    "## Forecast for April 2021 & Conclusion"
   ]
  },
  {
   "cell_type": "markdown",
   "id": "impaired-island",
   "metadata": {},
   "source": [
    "In this assignment, the aim was building a time series model and forecasting the next month's value of Clothing and Footwear CPI. In order to forecast future values of  CPI, the model uses: \n",
    "* trend component\n",
    "* monthly seasonality component\n",
    "* one month lagged USDTRY\n",
    "* one month lagged ExpectRate\n",
    "* one month lagged CPI value \n",
    " \n",
    "The coefficients are shown below. The model has an adjusted R-squared value of 0.9932. While building this model, we started with adding trend and seasonality components. After, we added one month lagged USDTRY, ExpectRate, and UnempRate as regressors. Since lagged UnempRate did not make the model better, we eliminated it. Then, we made residual analysis and realized that using one month lagged CPI values as regressor may make the model better. We added it and got the final model. "
   ]
  },
  {
   "cell_type": "code",
   "execution_count": 16,
   "id": "maritime-breakfast",
   "metadata": {},
   "outputs": [
    {
     "data": {
      "text/plain": [
       "\n",
       "Call:\n",
       "lm(formula = CPI ~ trend + months + shift(USDTRY, 1) + shift(ExpectRate, \n",
       "    1) + shift(CPI, 1), data = dt)\n",
       "\n",
       "Coefficients:\n",
       "         (Intercept)                 trend              months.L  \n",
       "             21.1326                0.1324               10.0652  \n",
       "            months.Q              months.C              months^4  \n",
       "            -11.7295                7.6006              -13.3551  \n",
       "            months^5              months^6              months^7  \n",
       "            -18.5793               10.8822                6.8720  \n",
       "            months^8              months^9             months^10  \n",
       "              2.5454                7.3684                3.0742  \n",
       "           months^11      shift(USDTRY, 1)  shift(ExpectRate, 1)  \n",
       "             -0.4894                0.5926                4.9386  \n",
       "       shift(CPI, 1)  \n",
       "              0.8462  \n"
      ]
     },
     "metadata": {},
     "output_type": "display_data"
    }
   ],
   "source": [
    "ts_reg"
   ]
  },
  {
   "cell_type": "code",
   "execution_count": 17,
   "id": "checked-johnson",
   "metadata": {},
   "outputs": [
    {
     "data": {
      "text/html": [
       "<table>\n",
       "<thead><tr><th scope=col>Date</th><th scope=col>UnempRate</th><th scope=col>USDTRY</th><th scope=col>CPI</th><th scope=col>ExpectRate</th><th scope=col>trend</th><th scope=col>predictions</th><th scope=col>months</th></tr></thead>\n",
       "<tbody>\n",
       "\t<tr><td>2020-11-01</td><td>12.9      </td><td>8.003324  </td><td>273.24    </td><td>0.99      </td><td>83        </td><td>276.6474  </td><td>Nov       </td></tr>\n",
       "\t<tr><td>2020-12-01</td><td>13.0      </td><td>7.721065  </td><td>264.54    </td><td>0.90      </td><td>84        </td><td>268.2004  </td><td>Dec       </td></tr>\n",
       "\t<tr><td>2021-01-01</td><td>13.4      </td><td>7.393975  </td><td>252.97    </td><td>1.35      </td><td>85        </td><td>252.3342  </td><td>Jan       </td></tr>\n",
       "\t<tr><td>2021-02-01</td><td>14.1      </td><td>7.072365  </td><td>250.63    </td><td>0.81      </td><td>86        </td><td>244.7578  </td><td>Feb       </td></tr>\n",
       "\t<tr><td>2021-03-01</td><td>13.4      </td><td>7.628235  </td><td>254.93    </td><td>0.93      </td><td>87        </td><td>252.0513  </td><td>Mar       </td></tr>\n",
       "\t<tr><td>2021-04-01</td><td>  NA      </td><td>      NA  </td><td>    NA    </td><td>  NA      </td><td>88        </td><td>270.7925  </td><td>Apr       </td></tr>\n",
       "</tbody>\n",
       "</table>\n"
      ],
      "text/latex": [
       "\\begin{tabular}{r|llllllll}\n",
       " Date & UnempRate & USDTRY & CPI & ExpectRate & trend & predictions & months\\\\\n",
       "\\hline\n",
       "\t 2020-11-01 & 12.9       & 8.003324   & 273.24     & 0.99       & 83         & 276.6474   & Nov       \\\\\n",
       "\t 2020-12-01 & 13.0       & 7.721065   & 264.54     & 0.90       & 84         & 268.2004   & Dec       \\\\\n",
       "\t 2021-01-01 & 13.4       & 7.393975   & 252.97     & 1.35       & 85         & 252.3342   & Jan       \\\\\n",
       "\t 2021-02-01 & 14.1       & 7.072365   & 250.63     & 0.81       & 86         & 244.7578   & Feb       \\\\\n",
       "\t 2021-03-01 & 13.4       & 7.628235   & 254.93     & 0.93       & 87         & 252.0513   & Mar       \\\\\n",
       "\t 2021-04-01 &   NA       &       NA   &     NA     &   NA       & 88         & 270.7925   & Apr       \\\\\n",
       "\\end{tabular}\n"
      ],
      "text/markdown": [
       "\n",
       "| Date | UnempRate | USDTRY | CPI | ExpectRate | trend | predictions | months |\n",
       "|---|---|---|---|---|---|---|---|\n",
       "| 2020-11-01 | 12.9       | 8.003324   | 273.24     | 0.99       | 83         | 276.6474   | Nov        |\n",
       "| 2020-12-01 | 13.0       | 7.721065   | 264.54     | 0.90       | 84         | 268.2004   | Dec        |\n",
       "| 2021-01-01 | 13.4       | 7.393975   | 252.97     | 1.35       | 85         | 252.3342   | Jan        |\n",
       "| 2021-02-01 | 14.1       | 7.072365   | 250.63     | 0.81       | 86         | 244.7578   | Feb        |\n",
       "| 2021-03-01 | 13.4       | 7.628235   | 254.93     | 0.93       | 87         | 252.0513   | Mar        |\n",
       "| 2021-04-01 |   NA       |       NA   |     NA     |   NA       | 88         | 270.7925   | Apr        |\n",
       "\n"
      ],
      "text/plain": [
       "  Date       UnempRate USDTRY   CPI    ExpectRate trend predictions months\n",
       "1 2020-11-01 12.9      8.003324 273.24 0.99       83    276.6474    Nov   \n",
       "2 2020-12-01 13.0      7.721065 264.54 0.90       84    268.2004    Dec   \n",
       "3 2021-01-01 13.4      7.393975 252.97 1.35       85    252.3342    Jan   \n",
       "4 2021-02-01 14.1      7.072365 250.63 0.81       86    244.7578    Feb   \n",
       "5 2021-03-01 13.4      7.628235 254.93 0.93       87    252.0513    Mar   \n",
       "6 2021-04-01   NA            NA     NA   NA       88    270.7925    Apr   "
      ]
     },
     "metadata": {},
     "output_type": "display_data"
    }
   ],
   "source": [
    "#adding new row with NA values for April 2021 and making prediction of the CPI value\n",
    "aprilRow <- data.table(Date=as.Date(\"2021-04-01\"), UnempRate=NA, USDTRY=NA, CPI=NA, ExpectRate=NA, \n",
    "                     trend=dim(dt)[1]+1, predictions=NA, months=month(as.Date(\"2021-04-01\"), label=TRUE))\n",
    "dt <- rbind(dt, aprilRow)\n",
    "dt <- dt[, predictions:=predict(ts_reg, dt)]\n",
    "tail(dt)"
   ]
  },
  {
   "cell_type": "markdown",
   "id": "thrown-grill",
   "metadata": {},
   "source": [
    "The Clothing and Footwear CPI forecast for April 2021 is 270.7925. "
   ]
  },
  {
   "cell_type": "code",
   "execution_count": 18,
   "id": "wooden-limit",
   "metadata": {},
   "outputs": [
    {
     "data": {
      "image/png": "[encoded data removed]",
      "text/plain": [
       "plot without title"
      ]
     },
     "metadata": {},
     "output_type": "display_data"
    }
   ],
   "source": [
    "ggplot(dt, aes(x=Date)) + geom_line(aes(y=CPI, \n",
    "    color=\"real\")) + geom_line(aes(y=predictions, color=\"predict\")) + geom_point(aes(x=dt[.N, Date], \n",
    "    y=dt[.N, predictions], color=\"April 2021\")) + scale_color_manual(values=c(\"yellow\", \"red\", \"blue\"))"
   ]
  }
 ],
 "metadata": {
  "kernelspec": {
   "display_name": "R",
   "language": "R",
   "name": "ir"
  },
  "language_info": {
   "codemirror_mode": "r",
   "file_extension": ".r",
   "mimetype": "text/x-r-source",
   "name": "R",
   "pygments_lexer": "r",
   "version": "3.6.1"
  }
 },
 "nbformat": 4,
 "nbformat_minor": 5
}
